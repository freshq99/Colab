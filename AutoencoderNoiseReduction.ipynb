{
  "nbformat": 4,
  "nbformat_minor": 0,
  "metadata": {
    "colab": {
      "name": "AutoencoderRecreation",
      "provenance": [],
      "collapsed_sections": [],
      "authorship_tag": "ABX9TyMy8+XcVADiGN7Mmz6TWssy",
      "include_colab_link": true
    },
    "kernelspec": {
      "name": "python3",
      "display_name": "Python 3"
    },
    "language_info": {
      "name": "python"
    },
    "accelerator": "GPU"
  },
  "cells": [
    {
      "cell_type": "markdown",
      "metadata": {
        "id": "view-in-github",
        "colab_type": "text"
      },
      "source": [
        "<a href=\"https://colab.research.google.com/github/freshq99/Colab/blob/main/AutoencoderRecreation.ipynb\" target=\"_parent\"><img src=\"https://colab.research.google.com/assets/colab-badge.svg\" alt=\"Open In Colab\"/></a>"
      ]
    },
    {
      "cell_type": "code",
      "metadata": {
        "id": "0wb4AR37EvDS"
      },
      "source": [
        "import pandas as pd\n",
        "import numpy as np\n",
        "import matplotlib.pyplot as plt"
      ],
      "execution_count": null,
      "outputs": []
    },
    {
      "cell_type": "code",
      "metadata": {
        "id": "OncYdnYsFflB"
      },
      "source": [
        "from tensorflow.keras.datasets import mnist"
      ],
      "execution_count": null,
      "outputs": []
    },
    {
      "cell_type": "code",
      "metadata": {
        "id": "PsZFQaB4F1_a"
      },
      "source": [
        "(X_train, y_train), (X_test, y_test) = mnist.load_data()"
      ],
      "execution_count": null,
      "outputs": []
    },
    {
      "cell_type": "code",
      "metadata": {
        "id": "5a46KdzHF_Sj"
      },
      "source": [
        "X_train = X_train/255"
      ],
      "execution_count": null,
      "outputs": []
    },
    {
      "cell_type": "code",
      "metadata": {
        "id": "jUZgsNAlGHSf"
      },
      "source": [
        "X_test = X_test/255"
      ],
      "execution_count": null,
      "outputs": []
    },
    {
      "cell_type": "code",
      "metadata": {
        "id": "sKYPetoSGJrq"
      },
      "source": [
        "#Inizio ora la costruzione dell'autoencoder\n",
        "from tensorflow.keras.models import Sequential\n",
        "from tensorflow.keras.layers import Dense, Flatten, Reshape\n",
        "from tensorflow.keras.optimizers import SGD"
      ],
      "execution_count": null,
      "outputs": []
    },
    {
      "cell_type": "code",
      "metadata": {
        "id": "6JQY-CjFGY52"
      },
      "source": [
        "#Costruisco il \"Stacked Autoencoder\", ossia strati Dense in fila\n",
        "\n",
        "#Le immagini sono di dimensione 28*28, quindi continuo a dividere"
      ],
      "execution_count": null,
      "outputs": []
    },
    {
      "cell_type": "code",
      "metadata": {
        "colab": {
          "base_uri": "https://localhost:8080/"
        },
        "id": "PI1Wxi69Gq9X",
        "outputId": "d3b0cd27-b87e-45d8-ddbf-d408abb8ff15"
      },
      "source": [
        "28*28"
      ],
      "execution_count": null,
      "outputs": [
        {
          "output_type": "execute_result",
          "data": {
            "text/plain": [
              "784"
            ]
          },
          "metadata": {},
          "execution_count": 8
        }
      ]
    },
    {
      "cell_type": "code",
      "metadata": {
        "colab": {
          "base_uri": "https://localhost:8080/"
        },
        "id": "r-KGvqxRGsVY",
        "outputId": "be914698-12d5-4b60-ae91-defd369a17c1"
      },
      "source": [
        "784/2"
      ],
      "execution_count": null,
      "outputs": [
        {
          "output_type": "execute_result",
          "data": {
            "text/plain": [
              "392.0"
            ]
          },
          "metadata": {},
          "execution_count": 9
        }
      ]
    },
    {
      "cell_type": "code",
      "metadata": {
        "colab": {
          "base_uri": "https://localhost:8080/"
        },
        "id": "Q-3HxngAGytP",
        "outputId": "2ae93a86-636d-4c21-afb9-36ff77ea8b0d"
      },
      "source": [
        "X_train[0].shape"
      ],
      "execution_count": null,
      "outputs": [
        {
          "output_type": "execute_result",
          "data": {
            "text/plain": [
              "(28, 28)"
            ]
          },
          "metadata": {},
          "execution_count": 10
        }
      ]
    },
    {
      "cell_type": "code",
      "metadata": {
        "id": "HuNlL9G1G15D"
      },
      "source": [
        "#Dato che la immagine è di tipo 28*28, la rendo piatta con flatten"
      ],
      "execution_count": null,
      "outputs": []
    },
    {
      "cell_type": "code",
      "metadata": {
        "id": "MYmY7DO0GuPa"
      },
      "source": [
        "encoder = Sequential()\n",
        "encoder.add(Flatten(input_shape=[28,28]))\n",
        "encoder.add(Dense(400, activation=\"relu\"))\n",
        "encoder.add(Dense(200, activation=\"relu\"))\n",
        "encoder.add(Dense(100, activation=\"relu\"))\n",
        "encoder.add(Dense(50, activation=\"relu\"))\n",
        "encoder.add(Dense(25, activation=\"relu\"))"
      ],
      "execution_count": null,
      "outputs": []
    },
    {
      "cell_type": "code",
      "metadata": {
        "colab": {
          "base_uri": "https://localhost:8080/"
        },
        "id": "IhI2pEDMJRsR",
        "outputId": "0352850a-c2a8-4d9c-a606-a451d4024b49"
      },
      "source": [
        "encoder.summary()"
      ],
      "execution_count": null,
      "outputs": [
        {
          "output_type": "stream",
          "name": "stdout",
          "text": [
            "Model: \"sequential\"\n",
            "_________________________________________________________________\n",
            " Layer (type)                Output Shape              Param #   \n",
            "=================================================================\n",
            " flatten (Flatten)           (None, 784)               0         \n",
            "                                                                 \n",
            " dense (Dense)               (None, 400)               314000    \n",
            "                                                                 \n",
            " dense_1 (Dense)             (None, 200)               80200     \n",
            "                                                                 \n",
            " dense_2 (Dense)             (None, 100)               20100     \n",
            "                                                                 \n",
            " dense_3 (Dense)             (None, 50)                5050      \n",
            "                                                                 \n",
            " dense_4 (Dense)             (None, 25)                1275      \n",
            "                                                                 \n",
            "=================================================================\n",
            "Total params: 420,625\n",
            "Trainable params: 420,625\n",
            "Non-trainable params: 0\n",
            "_________________________________________________________________\n"
          ]
        }
      ]
    },
    {
      "cell_type": "code",
      "metadata": {
        "id": "J7gT0weCHPxg"
      },
      "source": [
        "#Vado da 784 dimensioni a 25, circa il 3% delle features dell'immaginec"
      ],
      "execution_count": null,
      "outputs": []
    },
    {
      "cell_type": "code",
      "metadata": {
        "id": "gva8E5ChHVZC"
      },
      "source": [
        "decoder = Sequential()\n",
        "decoder.add(Dense(50,input_shape=[25],activation='relu'))\n",
        "decoder.add(Dense(100,activation='relu'))\n",
        "decoder.add(Dense(200,activation='relu'))\n",
        "decoder.add(Dense(400,activation='relu'))\n",
        "decoder.add(Dense(28 * 28, activation=\"sigmoid\"))\n",
        "decoder.add(Reshape([28, 28]))\n",
        "\n",
        "#con la sigmoide, perchè uso la perdita binaria categorica.\n",
        "#L'output è uguale alla vera immagine ? "
      ],
      "execution_count": null,
      "outputs": []
    },
    {
      "cell_type": "code",
      "metadata": {
        "colab": {
          "base_uri": "https://localhost:8080/"
        },
        "id": "S9E8oMg4KzUT",
        "outputId": "7923f0a0-da39-480b-ba01-b72441995a82"
      },
      "source": [
        "decoder.summary()"
      ],
      "execution_count": null,
      "outputs": [
        {
          "output_type": "stream",
          "name": "stdout",
          "text": [
            "Model: \"sequential_1\"\n",
            "_________________________________________________________________\n",
            " Layer (type)                Output Shape              Param #   \n",
            "=================================================================\n",
            " dense_5 (Dense)             (None, 50)                1300      \n",
            "                                                                 \n",
            " dense_6 (Dense)             (None, 100)               5100      \n",
            "                                                                 \n",
            " dense_7 (Dense)             (None, 200)               20200     \n",
            "                                                                 \n",
            " dense_8 (Dense)             (None, 400)               80400     \n",
            "                                                                 \n",
            " dense_9 (Dense)             (None, 784)               314384    \n",
            "                                                                 \n",
            " reshape (Reshape)           (None, 28, 28)            0         \n",
            "                                                                 \n",
            "=================================================================\n",
            "Total params: 421,384\n",
            "Trainable params: 421,384\n",
            "Non-trainable params: 0\n",
            "_________________________________________________________________\n"
          ]
        }
      ]
    },
    {
      "cell_type": "code",
      "metadata": {
        "id": "dztm0w8VIERT"
      },
      "source": [
        "autoencoder = Sequential([encoder, decoder])"
      ],
      "execution_count": null,
      "outputs": []
    },
    {
      "cell_type": "code",
      "metadata": {
        "colab": {
          "base_uri": "https://localhost:8080/"
        },
        "id": "ydqyOdQeIIa3",
        "outputId": "ef8c178e-fbe4-4a43-e384-884451e92360"
      },
      "source": [
        "autoencoder.compile(loss='binary_crossentropy',\n",
        "                    optimizer=SGD(lr=1.5),\n",
        "                    metrics=['accuracy']) #uso binaria perchè serve solo sapere se inout e output sono uguali"
      ],
      "execution_count": null,
      "outputs": [
        {
          "output_type": "stream",
          "name": "stderr",
          "text": [
            "/usr/local/lib/python3.7/dist-packages/keras/optimizer_v2/gradient_descent.py:102: UserWarning: The `lr` argument is deprecated, use `learning_rate` instead.\n",
            "  super(SGD, self).__init__(name, **kwargs)\n"
          ]
        }
      ]
    },
    {
      "cell_type": "code",
      "metadata": {
        "colab": {
          "base_uri": "https://localhost:8080/"
        },
        "id": "x--9Y4N1IZUB",
        "outputId": "ef5e1ffb-22ba-41c3-f975-f259c3b20311"
      },
      "source": [
        "autoencoder.fit(X_train, X_train, epochs=5,\n",
        "                validation_data=[X_test, X_test])"
      ],
      "execution_count": null,
      "outputs": [
        {
          "output_type": "stream",
          "name": "stdout",
          "text": [
            "Epoch 1/5\n",
            "1875/1875 [==============================] - 13s 6ms/step - loss: 0.2526 - accuracy: 0.0834 - val_loss: 0.2255 - val_accuracy: 0.1115\n",
            "Epoch 2/5\n",
            "1875/1875 [==============================] - 11s 6ms/step - loss: 0.1908 - accuracy: 0.1521 - val_loss: 0.1705 - val_accuracy: 0.1788\n",
            "Epoch 3/5\n",
            "1875/1875 [==============================] - 11s 6ms/step - loss: 0.1595 - accuracy: 0.1959 - val_loss: 0.1514 - val_accuracy: 0.2011\n",
            "Epoch 4/5\n",
            "1875/1875 [==============================] - 11s 6ms/step - loss: 0.1472 - accuracy: 0.2140 - val_loss: 0.1418 - val_accuracy: 0.2197\n",
            "Epoch 5/5\n",
            "1875/1875 [==============================] - 11s 6ms/step - loss: 0.1414 - accuracy: 0.2242 - val_loss: 0.1379 - val_accuracy: 0.2211\n"
          ]
        },
        {
          "output_type": "execute_result",
          "data": {
            "text/plain": [
              "<keras.callbacks.History at 0x7fa570230110>"
            ]
          },
          "metadata": {},
          "execution_count": 19
        }
      ]
    },
    {
      "cell_type": "code",
      "metadata": {
        "id": "cwN9BTD5NnDt"
      },
      "source": [
        "#Come lo uso ?"
      ],
      "execution_count": null,
      "outputs": []
    },
    {
      "cell_type": "code",
      "metadata": {
        "id": "JzKcawG-Nq1a"
      },
      "source": [
        "passed_images = autoencoder.predict(X_test[:10])"
      ],
      "execution_count": null,
      "outputs": []
    },
    {
      "cell_type": "code",
      "metadata": {
        "colab": {
          "base_uri": "https://localhost:8080/",
          "height": 547
        },
        "id": "7yF9Mh4_Nz60",
        "outputId": "d1884b2e-f9b1-4319-97bb-1a4f24099edd"
      },
      "source": [
        "n = 0\n",
        "\n",
        "print(\"Original image\")\n",
        "plt.imshow(X_test[n])\n",
        "plt.show()\n",
        "print(\"Attempted reconstruction after autoencoder\")\n",
        "plt.imshow(passed_images[n])\n",
        "plt.show()\n",
        "\n",
        "#Sono passato da 784 dimensioni a 25, per poi ritornare a 784, ma l'autoencoder \n",
        "#ha fatto tutto con 25 features. "
      ],
      "execution_count": null,
      "outputs": [
        {
          "output_type": "stream",
          "name": "stdout",
          "text": [
            "Original image\n"
          ]
        },
        {
          "output_type": "display_data",
          "data": {
            "image/png": "[encoded data removed]",
            "text/plain": [
              "<Figure size 432x288 with 1 Axes>"
            ]
          },
          "metadata": {
            "needs_background": "light"
          }
        },
        {
          "output_type": "stream",
          "name": "stdout",
          "text": [
            "Attempted reconstruction after autoencoder\n"
          ]
        },
        {
          "output_type": "display_data",
          "data": {
            "image/png": "[encoded data removed]",
            "text/plain": [
              "<Figure size 432x288 with 1 Axes>"
            ]
          },
          "metadata": {
            "needs_background": "light"
          }
        }
      ]
    },
    {
      "cell_type": "code",
      "metadata": {
        "id": "3Z4beYcXOJyN"
      },
      "source": [
        ""
      ],
      "execution_count": null,
      "outputs": []
    }
  ]
}
