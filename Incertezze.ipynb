{
  "nbformat": 4,
  "nbformat_minor": 0,
  "metadata": {
    "colab": {
      "name": "Incertezze.ipynb",
      "provenance": [],
      "collapsed_sections": [],
      "authorship_tag": "ABX9TyMs6OVKZbaMRpdAJh7Z8U6a",
      "include_colab_link": true
    },
    "kernelspec": {
      "name": "python3",
      "display_name": "Python 3"
    },
    "language_info": {
      "name": "python"
    }
  },
  "cells": [
    {
      "cell_type": "markdown",
      "metadata": {
        "id": "view-in-github",
        "colab_type": "text"
      },
      "source": [
        "<a href=\"https://colab.research.google.com/github/freshq99/Colab/blob/main/Incertezze.ipynb\" target=\"_parent\"><img src=\"https://colab.research.google.com/assets/colab-badge.svg\" alt=\"Open In Colab\"/></a>"
      ]
    },
    {
      "cell_type": "code",
      "source": [
        "#Valore\n",
        "R1 = 150E3\n",
        "R2 = 150E3\n",
        "\n",
        "#incertezze\n",
        "dR1 = R1/100*1\n",
        "dR2 = R2/100*1"
      ],
      "metadata": {
        "id": "bj06O9CEjwEm"
      },
      "execution_count": 1,
      "outputs": []
    },
    {
      "cell_type": "code",
      "source": [
        "def erroreSomma(op1, op2, inc1, inc2):\n",
        "  val = op1 + op2\n",
        "  inc = inc1 + inc2\n",
        "  return val, inc\n",
        "\n",
        "def erroreProdotto(op1, op2, inc1, inc2):\n",
        "  val = op1*op2\n",
        "  inc = op1*inc2 + op2*inc1\n",
        "  return val, inc\n",
        "\n",
        "def erroreQuoziente(op1, op2, inc1, inc2):\n",
        "  val = op1 / op2\n",
        "  inc = (op1*inc2 + op2*inc1) / pow(op2, 2)\n",
        "  return val, inc"
      ],
      "metadata": {
        "id": "5SilPmF-j8Zf"
      },
      "execution_count": 2,
      "outputs": []
    },
    {
      "cell_type": "code",
      "source": [
        "(Rsomma, incSomma) = erroreSomma(R1, R2, dR1, dR2)\n",
        "(Rprod, incProd) = erroreProdotto(R1, R2, dR1, dR2)\n",
        "\n",
        "(RQuoz, incQuoz) = erroreQuoziente(R1, R2, incProd, incSomma)"
      ],
      "metadata": {
        "id": "ij5BnvqWkaLa"
      },
      "execution_count": null,
      "outputs": []
    }
  ]
}